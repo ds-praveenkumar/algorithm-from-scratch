{
 "cells": [
  {
   "cell_type": "code",
   "execution_count": 224,
   "metadata": {},
   "outputs": [],
   "source": [
    "# filename: Prob7.py\n",
    "# input file: GraphData.txt\n",
    "# output file: Prob7Out.txt"
   ]
  },
  {
   "cell_type": "code",
   "execution_count": 241,
   "metadata": {},
   "outputs": [],
   "source": [
    "from collections import defaultdict, deque\n",
    "\n",
    "# read graph data file\n",
    "lines = []\n",
    "with open('GraphData.txt') as f:\n",
    "    lines = f.readlines()\n",
    "lines = [x.strip() for x in lines]\n",
    "\n",
    "    \n",
    "#prepare graph\n",
    "graph = defaultdict(list)\n",
    "nodes = []\n",
    "for line in lines:\n",
    "    n1 = line.split()[0].replace(',','').replace('(', '')\n",
    "    n2 = line.split()[1].replace(')','')\n",
    "    graph[n1].append(n2)\n"
   ]
  },
  {
   "cell_type": "code",
   "execution_count": 242,
   "metadata": {},
   "outputs": [],
   "source": [
    "n_vertex = len(graph.keys())"
   ]
  },
  {
   "cell_type": "code",
   "execution_count": 243,
   "metadata": {},
   "outputs": [],
   "source": [
    "n_edge = 0\n",
    "for key in graph.keys():\n",
    "    n_edge += len(graph[key])"
   ]
  },
  {
   "cell_type": "code",
   "execution_count": 244,
   "metadata": {},
   "outputs": [
    {
     "data": {
      "text/plain": [
       "1003"
      ]
     },
     "execution_count": 244,
     "metadata": {},
     "output_type": "execute_result"
    }
   ],
   "source": [
    "n_vertex"
   ]
  },
  {
   "cell_type": "markdown",
   "metadata": {},
   "source": [
    "# Prob7.py"
   ]
  },
  {
   "cell_type": "code",
   "execution_count": null,
   "metadata": {
    "jupyter": {
     "source_hidden": true
    }
   },
   "outputs": [],
   "source": [
    "# graph = {\n",
    "#     0: {1, 2, 3},  # neighbors of node \"0\"\n",
    "#     1: {0, 2},\n",
    "#     2: {0, 1},\n",
    "#     3: {0, 4, 5},\n",
    "#     4: {3, 5},\n",
    "#     5: {3, 4, 7},\n",
    "#     6: {8},\n",
    "#     7: {5},\n",
    "#     8: {9, 6},\n",
    "#     9: {8}\n",
    "# }\n",
    "\n",
    "# def get_connected_components(graph):\n",
    "#     seen = set()\n",
    "#     components = []\n",
    "\n",
    "#     for node in graph:\n",
    "#         if node not in seen:\n",
    "#             component = []\n",
    "#             nodes = {node}\n",
    "\n",
    "#             while nodes:\n",
    "#                 node = nodes.pop()\n",
    "#                 seen.add(node)\n",
    "#                 component.append(node)\n",
    "#                 for \n",
    "#                 nodes.update(graph[node].difference(seen))\n",
    "#             components.append(component)\n",
    "\n",
    "#     return components\n",
    "\n",
    "# print(get_connected_components(graph))"
   ]
  },
  {
   "cell_type": "code",
   "execution_count": null,
   "metadata": {
    "jupyter": {
     "source_hidden": true
    }
   },
   "outputs": [],
   "source": [
    "visited = set()\n",
    "components = []\n",
    "for vertex in graph.keys():\n",
    "    if vertex not in visited:\n",
    "        component = []\n",
    "        vertexs = {vertex}\n",
    "        while vertexs:\n",
    "            vertex = vertexs.pop()\n",
    "            visited.add( vertex)\n",
    "            component.append( vertex )\n",
    "            print(vertexs.update( set(graph[vertex]).difference(visited)))\n",
    "        components.append(component)"
   ]
  },
  {
   "cell_type": "code",
   "execution_count": 245,
   "metadata": {},
   "outputs": [],
   "source": [
    "def DFS( temp, v, visited):\n",
    "    visited[v] = True\n",
    "    temp.append( v)\n",
    "    for vertex in graph[v]:\n",
    "        if visited[vertex] == False:\n",
    "            temp = DFS(temp, vertex, visited )\n",
    "    return temp"
   ]
  },
  {
   "cell_type": "code",
   "execution_count": null,
   "metadata": {},
   "outputs": [],
   "source": [
    "def connected_components():\n",
    "    \"\"\" calculates connected components\"\"\"\n",
    "    visited = {}\n",
    "    cc = []\n",
    "    for key in graph.keys():\n",
    "        visited[key] = False\n",
    "    for key in graph.keys():\n",
    "        try: \n",
    "            if visited[key] == False:\n",
    "                temp = []\n",
    "                cc.append(DFS( temp, v, visited))\n",
    "        except:\n",
    "            pass\n",
    "    return cc\n",
    "no_connected_components = len(connected_components())\n",
    "no_connected_components"
   ]
  },
  {
   "cell_type": "code",
   "execution_count": 248,
   "metadata": {},
   "outputs": [],
   "source": [
    "def prepare_output_file():\n",
    "    f = open('Prob7Out.txt', 'w')\n",
    "    f.write(f'7(a):\\nNumber of vertices->{n_vertex}, Number of edges->{n_edge}\\n')\n",
    "    f.write(f'7(b):\\nNumber of connected components ->{no_connected_components}')\n",
    "    f.close()\n",
    "prepare_output_file()"
   ]
  },
  {
   "cell_type": "code",
   "execution_count": null,
   "metadata": {},
   "outputs": [],
   "source": [
    "graph"
   ]
  },
  {
   "cell_type": "code",
   "execution_count": null,
   "metadata": {},
   "outputs": [],
   "source": []
  }
 ],
 "metadata": {
  "kernelspec": {
   "display_name": "Python 3",
   "language": "python",
   "name": "python3"
  },
  "language_info": {
   "codemirror_mode": {
    "name": "ipython",
    "version": 3
   },
   "file_extension": ".py",
   "mimetype": "text/x-python",
   "name": "python",
   "nbconvert_exporter": "python",
   "pygments_lexer": "ipython3",
   "version": "3.8.3"
  }
 },
 "nbformat": 4,
 "nbformat_minor": 4
}
