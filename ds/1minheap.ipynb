{
 "cells": [
  {
   "cell_type": "code",
   "execution_count": 15,
   "metadata": {},
   "outputs": [
    {
     "name": "stdout",
     "output_type": "stream",
     "text": [
      "5\n"
     ]
    }
   ],
   "source": [
    "from math import log\n",
    "class MinHeap:\n",
    "    def __init__(self):\n",
    "        \"\"\"\n",
    "        initilize heap\n",
    "        \"\"\"\n",
    "        self.heap_list = [0]\n",
    "        self.current_size = 0\n",
    "        \n",
    "    def insert(self, k):\n",
    "        \"\"\"\n",
    "        Insert new value into the heap\n",
    "        \"\"\"\n",
    "        self.heap_list.append(k)\n",
    "        self.sift_up(self.current_size)\n",
    "        self.current_size += 1\n",
    "\n",
    "        \n",
    " \n",
    "    def sift_up(self, i):\n",
    "        \"\"\"\n",
    "        Moves the value up in the tree to maintain the heap property.\n",
    "        \"\"\"\n",
    "        while (i // 2 > 0):\n",
    "            if self.heap_list[i] < self.heap_list[i // 2]:\n",
    "                self.heap_list[i], self.heap_list[i // 2] = self.heap_list[i // 2], self.heap_list[i]\n",
    "            i = i // 2\n",
    "     \n",
    " \n",
    "    def sift_down(self, i):\n",
    "        while (i * 2) <= self.current_size:\n",
    "            mc = self.min_child(i)\n",
    "            if self.heap_list[i] > self.heap_list[mc]:\n",
    "                self.heap_list[i], self.heap_list[mc] = self.heap_list[mc], self.heap_list[i]\n",
    "            i = mc\n",
    " \n",
    "    def min_child(self, i):\n",
    "        if (i * 2)+1 > self.current_size:\n",
    "            return i * 2\n",
    "        else:\n",
    "            if self.heap_list[i*2] < self.heap_list[(i*2)+1]:\n",
    "                return i * 2\n",
    "            else:\n",
    "                return (i * 2) + 1\n",
    " \n",
    "    def delete_min(self):\n",
    "        if len(self.heap_list) == 1:\n",
    "            return 'Empty heap'\n",
    "        root = self.heap_list[1]\n",
    "        self.heap_list[1] = self.heap_list[self.current_size]\n",
    "        *self.heap_list, _ = self.heap_list\n",
    "        self.current_size -= 1\n",
    "        self.sift_down(1)\n",
    "        return root\n",
    "\n",
    "my_heap = MinHeap()\n",
    "my_heap.insert(5)\n",
    "my_heap.insert(16)\n",
    "my_heap.insert(7)\n",
    "my_heap.insert(9)\n",
    "my_heap.insert(13)\n",
    "my_heap.insert(11)\n",
    "my_heap.insert(10)\n",
    "\n",
    "print(my_heap.delete_min()) \n",
    "\n",
    " "
   ]
  },
  {
   "cell_type": "code",
   "execution_count": 16,
   "metadata": {},
   "outputs": [],
   "source": [
    "\n",
    "import random\n",
    "f = open('Prob1aHeap.txt', 'w')\n",
    "random_numbers = []\n",
    "for i in range(10000):\n",
    "    rand_num = random.randint(0, 100000)\n",
    "    random_numbers.append( rand_num)\n",
    "    f.write(f'{rand_num}\\n')\n",
    "f.close()"
   ]
  },
  {
   "cell_type": "code",
   "execution_count": 17,
   "metadata": {},
   "outputs": [],
   "source": [
    "def testHeap(i, n, array):\n",
    "    \"\"\"\n",
    "    Checks if an array is a heap\n",
    "    \"\"\"\n",
    "    if i >= int((n - 2) / 2):\n",
    "        return True\n",
    "    \n",
    "    if( array[i] >= array[2 * i + 2] and\n",
    "        array[i] >= array[2 * i + 1] and\n",
    "       testHeap(2 * i + 1, n, array) and\n",
    "       testHeap(2 * i + 2, n, array)):\n",
    "        return True\n",
    "     \n",
    "    return False"
   ]
  },
  {
   "cell_type": "code",
   "execution_count": 18,
   "metadata": {},
   "outputs": [
    {
     "name": "stdout",
     "output_type": "stream",
     "text": [
      "Yes\n"
     ]
    }
   ],
   "source": [
    "arr = [90, 15, 10, 7, 12, 2, 7, 3]\n",
    "n = len(arr) - 1\n",
    " \n",
    "if testHeap(0, n, arr):\n",
    "    print(\"Yes\")\n",
    "else:\n",
    "    print(\"No\")"
   ]
  },
  {
   "cell_type": "markdown",
   "metadata": {},
   "source": [
    "# Prob1b.py"
   ]
  },
  {
   "cell_type": "code",
   "execution_count": 132,
   "metadata": {},
   "outputs": [],
   "source": [
    "contents = None\n",
    "with open('Prob1b.txt') as f:\n",
    "    contents = f.readlines() "
   ]
  },
  {
   "cell_type": "code",
   "execution_count": 133,
   "metadata": {},
   "outputs": [],
   "source": [
    "contents = [x.strip() for x in contents]"
   ]
  },
  {
   "cell_type": "code",
   "execution_count": 134,
   "metadata": {},
   "outputs": [
    {
     "name": "stdout",
     "output_type": "stream",
     "text": [
      "this soldier whose name from the circumstances connected with his remarkable story daring courage and terrible fate is still remembered in the regiment in the early history of which he bears so prominent a part was one of the first who enlisted in captain campbell of finabs independent band of the reicudan dhu or black watch when the six separate companies composing this highland force were established along the highland border in 1729 to repress the predatory spirit of certain tribes and to prevent the levy of black mail the companies were independent and at that time wore the clan tartan of their captains who were simon frazer the celebrated lord lovat sir duncan campbell of lochnell grant of ballindalloch alister campbell of finab whose father fought at darien ian campbell of carrick and deors monro of culcairn\n",
      "\n",
      "the privates of these companies were all men of a superior station being mostly cadets of good familiesgentlemen of the old celtic and patriarchal lines and of baronial proprietors in the highlands the only genuine mark of aristocracy was descent from the founder of the tribe all who claimed this were styled uislain or gentlemen and as such when off duty were deemed the equal of the highest chief in the land great care was taken by the six captains to secure men of undoubted courage of good stature stately deportment and handsome figure thus in all the old highland regiments but more especially the reicudan dhu equality of blood and similarity of descent secured familiarity and regard between the officers and their menfor the latter deemed themselves inferior to no man who breathed the air of heaven hence according to an english engineer officer who frequently saw these independent companies many of those private gentlemensoldiers have gillies or servants to attend upon them in their quarters and upon a march to carry their provisions baggage and firelocks\n",
      "\n",
      "such was the composition of the corps now first embodied among that remarkable people the scottish highlandersa people says the historian of great britain untouched by the roman or saxon invasions on the south and by those of the danes on the east and west skirts of their countrythe unmixed remains of that vast celtic empire which once stretched from the pillars of hercules to archangel\n",
      "\n",
      "the reicudan dhu were armed with the usual weapons and accoutrements of the line but in addition to these had the arms of their native countrythe broadsword target pistol and long dagger while the sergeants carried the old celtic tuagh or lochaber axe it was distinctly understood by all who enlisted in this new force that their military duties were to be confined within the highland border where from the wild predatory spirit of those clans which dwelt next the lowlands it was known that they would find more than enough of military service of the most harassing kind in the conflicts which daily ensued among the mountainsin the sudden marches by night the desperate brawls among caterans who were armed to the teeth fierce as nature and outlawry could make them and who dwelt in wild and pathless fastnesses secluded amid rocks woods and morasses there were few who in courage energy daring and activity equalled farquhar shaw a gentleman from the braes of lochaber who was esteemed the premier private in the company of campbell of finab which was then quartered in that district for each company had its permanent cantonment and scene of operations during the eleven years which succeeded the first formation of the reicudan dhu\n",
      "\n",
      "farquhar was a perfect swordsman and deadly shot alike with the musket and pistol and his strength was such that he had been known to twist a horseshoe and drive his skene dhu to the hilt in a pine log while his activity and power of enduring hunger thirst heat cold and fatigue became a proverb among the companies of the watch: for thus had he been reared and trained by his father a genuine old celtic gentleman and warrior whose memory went back to the days when dundee led the valiant and true to the field of rinrory and in whose arms the viscount fell from his horse in the moment of victory and was borne to the house of urrard to die he was a true highlander of the old school for an old school has existed in all ages and everywhere even among the arabs the children of ishmael in the desert for they too have an olden time to which they look back with regret as being nobler better braver and purer than the present thus the father of farquhar shaw was a grim duinewissal who never broke bread or saw the sun rise without uncovering his head and invoking the names of god the blessed mary and st colme of the isle who never sat down to a meal without opening wide his gates that the poor and needy might enter freely who never refused the use of his purse and sword to a friend or kinsman and was never seen unarmed even in his own diningroom who never wronged any man but who never suffered a wrong or affront to pass without sharp and speedy vengeance and who rather than acknowledge the supremacy of the house of hanover died sword in hand at the rising in glensheil for this act his estates were seized by the house of breadalbane and his only son farquhar became a private soldier in the ranks of the black watch\n",
      "\n",
      "it may easily be supposed that the son of such a father was imbued with all his cavalier spirit his loyalty and enthusiasm and that his mind was filled by all the military legendary and romantic memories of his native mountains the land of the celts which as a fine irish ballad says was theirs\n",
      "\n",
      "ere the roman or the saxon the norman or the dane\n",
      "had first set foot in britain or trampled heaps of slain\n",
      "whose manhood saw the druid rite at forest tree and rock\n",
      "and savage tribes of britain round the shrines of zernebok\n",
      "which for generations witnessed all the glories of the gael\n",
      "since their celtic sires sang warsongs round the sacred fires of baal\n",
      "\n",
      "\n",
      "when it was resolved by government to form the six independent highland companies into one regiment farquhar shaw was left on the sick list at the cottage of a widow named mhona cameron near inverlochy having been wounded in a skirmish with caterans in glennevis and he writhed on his sickbed when his comrades under finab marched for the birks of aberfeldy the musterplace of the whole where the companies were to be united into one battalion under the celebrated john earl of crawford and lindesay the last of his ancient race a hero covered with wounds and honours won in the services of britain and russia\n",
      "\n",
      "weak wan and wasted though he was for his wound a slash from a poleaxe had been a severe one farquhar almost sprang from bed when he heard the notes of their retiring pipes dying away as they marched through maryburgh and round by the margin of lochiel his spirit of honour was ruffled moreover by a rumour spread by his enemies the caterans against whom he had fought repeatedly that he was growing fainthearted at the prospect of the service of the black watch being extended beyond the highland border as rumours to this effect were already finding credence in the glens the fierce proud heart of farquhar burned within him with indignation and unmerited shame\n",
      "\n",
      "at last one night an old crone who came stealthily to the cottage in which he was residing informed him that by the same outlaws who were seeking to deprive him of his honour a subtle plan had been laid to surround his temporary dwelling and put him to death in revenge for certain wounds inflicted by his sword upon their comrades\n",
      "\n",
      "the energy and activity of the black watch had long since driven the caterans to despair and nothing but the anticipation of killing farqnhar comfortably and chopping him into ounce pieces at leisure enabled them to survive their troubles with anything like christian fortitude and resignation\n",
      "\n",
      "and this is their plan mother said farquhar to the crone\n",
      "\n",
      "to burn the cottage and you with it\n",
      "\n",
      "dioul say you so mother mhona he exclaimed then tis time i were betaking me to the hills better have a cool bed for a few nights on the sweetscented heather than be roasted in a burning cottage like a fox in its hole\n",
      "\n",
      "in vain the cotters besought him to seek concealment elsewhere or to tarry until he had gained his fall strength\n",
      "\n",
      "were i in the prime of strength i would stay here said farquhar and when sleeping on my sword and target would fear nothing if these dogs of caterans came they should be welcome to my life if i could not redeem it by the three best lives in their band but i am weak as a growing boy and so shall be off to the free mountain side and seek the path that leads to the birks of aberfeldy\n",
      "\n",
      "but the birks are far from here farquhar urged old mhona\n",
      "\n",
      "attempt and didnot were the worst of fingals hounds replied the soldier farquhar will owe you a day in harvest for all your kindness but his comrades wait and go he must would it not be a strange thing and a shameful too if all the reicudan dhu should march down into the flat bare land of the lowland clowns and farquhar not be with them what would finab his captain think and what would all in brae lochaber say\n",
      "\n",
      "yet pause continued the crones\n",
      "\n",
      "pause dhia my fathers bones will soon be clattering in their grave far away in green glensheil where he died for king james mhona\n",
      "\n",
      "beware continued the old woman lest you go for ever farquhar\n",
      "\n",
      "it is longer to for ever than to beltane and by that day i must be at the birks of aberfeldy\n",
      "\n",
      "then seeing that he was determined the crones muttered among themselves that the tarvecoill would fall upon him but farquhar shaw though far from being free of his native superstitions laughed aloud for the tarvecoill is a black cloud which if seen on a newyears eve is said to portend stormy weather hence it is a proverb for a misfortune about to happen\n",
      "\n",
      "you were unwise to become a soldier farquhar was their last argument\n",
      "\n",
      "why\n",
      "\n",
      "the tongue may tie a knot which the teeth cannot untie\n",
      "\n",
      "as your husbands tongues did when they married you all poor men was the goodnatured retort of farquhar but fear not for me ere the snow begins to melt on ben nevis and the sweet wallflower to bloom on the black castle of inverlochy i will be with you all again he added while belting his tartanplaid about him slinging his target on his shoulder and whistling upon bran his favourite staghound he then set out to join the regiment by the nearest route on the skirts of ben nevis resolving to pass the head of lochlevin through larochmohr and the deep glens that lead towards the braes of rannoch a long desolate and perilous journey but with his sword his pistols and gigantic hound to guard him his plaid for a covering and the purple heather for a bed wherever he halted farquhar feared nothing\n",
      "\n",
      "his faithful dog bran which had shared his couch and plaid since the time when it was a puppy was a noble specimen of the scottish hound which was used of old in the chase of the white bull the wolf and the deer and which is in reality the progenitor of the common greyhound for the breed has degenerated in warmer climates than the stern north bran so named from bran of old was of such size strength and courage that he was able to drag down the strongest deer and in the last encounter with the caterans of glen nevis he had saved the life of farquhar by tearing almost to pieces one who would have slain him as he lay wounded on the field his hair was rough and grey his limbs were muscular and wiry his chest was broad and deep his keen eyes were bright as those of an eagle such dogs as bran bear a prominent place in highland song and story they were remarkable for their sagacity and love of their master and their solemn and dirgelike howl was ever deemed ominous and predictive of death and woe\n",
      "\n",
      "bran and his master were inseparable the noble dog had long been invaluable to him when on hunting expeditions and now since he had become a soldier in the reicudan dhu bran was always on guard with him and the sharer of all his duties thus farquhar was wont to assert that for watchfulness on sentry brans two ears were worth all the rest in the black watch put together\n",
      "\n",
      "the sun had set before farquhar left the green thatched clachan and already the bases of the purple mountains were dark though a red glow lingered on their heathclad summits lest some of the cateran band of whose malevolence he was now the object might already have knowledge or suspicion of his departure and be watching him with lynxlike eyes from behind some rock or bracken bush he pursued for a time a path which led to the westward until the darkness closed completely in and then after casting round him a rapid and searching glance he struck at once into the old secluded droveway or fingalian road which descended through the deep gorge of corriehoilzie towards the mouth of glencoe\n",
      "\n",
      "on his left towered ben nevisor the mountain of heavensublime and vast four thousand three hundred feet and more in height with its pale summits gleaming in the starlight under a coating of eternal snow on his right lay deep glens yawning between pathless mountains that arose in piles above each other their sides torn and rent by a thousand watercourses exhibiting rugged banks of rock and gravel fringed by green waving bracken leaves and black whin bushes or jagged by masses of stone lying in piles and heaps like the black dreary and cyclopean ruins of an earlier world before him lay the wilderness of larochmohr a scene of solitary and solemn grandeur where under the starlight every feature of the landscape every waving bush or silver birch every bare scalp of porphyry and every granite block torn by storms from the cliffs above every rugged watercourse tearing in foam through its deep marl bed between the tufted heather seemed shadowy unearthly and weirddark and mysterious and all combined were more than enough to impress with solemnity the thoughts of any man but more especially those of a highlander for the savage grandeur and solitude of that district at such an hourthe gloamingwere alike to use a paradox soothing and terrific\n",
      "\n",
      "there was no moon large masses of crapelike vapour sailed across the blue sky and by gradually veiling the stars made yet darker the gloomy path which farquhar had to traverse even the dog bran seemed impressed by the unbroken stillness and trotted close as a shadow by the bare legs of his master\n",
      "\n",
      "for a time farquhar shaw had thought only of the bloodthirsty caterans who in their mood of vengeance at the black watch in general and at him in particular would have hewn him to pieces without mercy but now as the distance increased between himself and their haunts by the shores of the lochy and eil other thoughts arose in his mind which gradually became a prey to the superstition incident alike to his age and country as all the wild tales he had heard of that sequestered district and indeed of that identical glen which he was then traversing crowded upon his memory until he farquhar shaw who would have faced any six men sword in hand or would have charged a grapeshotted battery without fear actually sighed with apprehension at the waving of a hazel bush on the lone hill side\n",
      "\n",
      "of many wild and terrible things this locale was alleged to be the scene and with some of these the highland reader may be as familiar as farquhar\n",
      "\n",
      "a party of the black watch in the summer of 1738 had marched up the glen under the command of corporal malcolm macpherson of whom more anon with orders to seize a flock of sheep and arrest the proprietor who was alleged to have lifted ie stolen them from the camerons of lochiel the soldiers found the flock to the number of three hundred grazing on a hill side all fat blackfaced sheep with fine long wool and seated near them crook in hand upon a fragment of rock they found the person one of the caterans already referred to who was alleged to have stolen them he was a strangelooking old fellow with a long white beard that flowed below his girdle he was attended by two huge black dogs of fierce and repulsive aspect he laughed scornfully when arrested by the corporal and hollowly the echoes of his laughter rang among the rocks while his giant hounds bayed and erected their bristles and their eyes flashed as if emitting sparks of fire\n",
      "\n",
      "the soldiers now surrounded the sheep and drove them down the hill side into the glen from whence they proceeded towards maryburgh with a piper playing in front of the flock for it is known that sheep will readily follow the music of the pipe the black watch were merry with their easy capture but none in macphersons party were so merry as the captured shepherd whom for security the corporal had fettered to the left hand of his brother samuel and in this order they proceeded for three miles until they reached a running stream when lo the whole of the three hundred fat sheep and the black dogs turned into clods of brown earth and with a wild mocking laugh that seemed to pass away on the wind which swept the mountain waste their shepherd vanished and no trace of his presence remained but the empty ring of the fetters which dangled from the left wrist of samuel macpherson who felt every hair on his head bristle under his bonnet with terror and affright\n",
      "\n",
      "this sombre glen was also the abode of the daoine shie or good neighbours as they are named in the lowlands and of this fact the wife of the paysergeant of farquhars own company could bear terrible evidence these imps are alleged to have a strange love for abstracting young girls and women great with child and leaving in their places bundles of dry branches or withered reeds in the resemblance of the person thus abstracted but to all appearance dead or in a trance they are also exceeding partial to having their own bantlings nursed by human mothers\n",
      "\n",
      "the wife of the sergeant who was duncan campbell of the family of duncaves was without children but was ever longing to possess one and had drunk of all the holy wells in the neighbourhood without finding herself much benefited thereby on a summer evening when the twilight was lingering on the hills she was seated at her cottage door gazing listlessly on the waters of the eil which were reddened by the last flush of the west when suddenly a little man and woman of strange aspect appeared before herso suddenly that they seemed to have sprung from the groundand offered her a child to nurse her husband the sergeant was absent on duty at dumbarton the poor lonely woman had no one to consult or from whom to seek permission and she at once accepted the charge as one long coveted\n",
      "\n",
      "take this pot of ointment said the man impressively giving moina campbell a box made of shells and be careful from time to time to touch the eyelids of our child therewith\n",
      "\n",
      "accept this purse of money said the woman giving her a small bag of green silk tis our payment in advance and anon we will come again\n",
      "\n",
      "the quaint little father and mother then each blew a breath upon the face of the child and disappeared or as the sergeants wife said seemed to melt away into the twilight haze the money given by the woman was gold and silver but moina knew not its value for the coins were ancient and bore the head of king constantine iv the child was a strange pale and wan little creature with keen bright and melancholy eyes its lean freakish hands were almost transparent and it was ever sad and moaning yet in the care of the sergeants wife it throve bravely and always after its eyes were touched with the ointment it laughed crowed screamed and exhibited such wild joy that it became almost convulsed\n",
      "\n",
      "some months after moina campbell more lonely now than ever was passing through larochmohr when suddenly within the circle of a large green fairy ring she saw thousands yea myriads of little imps in green trunk hose and with sugarloaf hats dancing and making merry and amid them were the child she had nursed and its parents also and in terror and distress she addressed herself to them\n",
      "\n",
      "another story flitted through farquhars mind and troubled him quite as much as its predecessors in a shieling here a friend of his when hunting one night sought shelter finding a fire already lighted therein he became alarmed and clambering into the roof sat upon the cross rafters to wait the event and ere long there entered a little old man two feet in height his head hands and feet were enormously large for the size of his person his nose was long crooked and of a scarlet hue his eyes brilliant as diamonds and they glared in the light of the fire he took from his back a bundle of reeds and tying them together proceeded to blow upon them from his huge mouth and distended cheeks and as he blew a skin crept over the dry bundle which gradually began to assume the appearance of a human face and form\n",
      "\n",
      "these proceedings were more than the huntsman on his perch above could endure and filled by dread that the process below might end in a troublesome likeness of himself he dropped a sixpence into his pistol for everything evil is proof to lead and fired straight at the huge head of the spirit or gnome which vanished with a shriek tearing away in his wrath and flight the whole of the turf wall on one side of the shieling which was thus in a moment reduced to ruin\n",
      "\n",
      "these memories and a thousand others of spectral druids and tall ghastly warriors through whose thin forms the twinkling stars would shine but these orbs were hidden now as they hovered by grey cairns and the grassy graves of old crowded on the mind of farquhar for there were then and even now are more ghosts devils and hobgoblins in the scottish highlands than ever were laid of yore in the red sea nor need we be surprised at this superstition in the early days of the black watch when dr henry tells us in 1831 that within the last twenty years when a couple agreed to marry in orkney they went to the temple of the moon which was semicircular and there on her knees the woman solemnly invoked the spirit of woden\n",
      "\n",
      "farquhar as he strode on comforted himself with the reflection that those who are born at nightas his mother had a hundred times told him he had beennever saw spirits so he took a good dram from his huntingflask and belted his plaid tighter about him after making a sign of the cross three times as a protection against all the diablerie of the district but chiefly against a certain malignant fiend or spirit who was wont to howl at night among the rocks of larochmohr to hurl storms of snow into the deep vale of corriehoilzie and toss huge blocks of granite into the deep blue waters of loch leven he shouted on bran whistled the march of the black watch to keep his spirits cheery and pushed on his way up the mountains while the broad rain drops of a coming tempest plashed heavily in his face\n",
      "\n",
      "he looked up to the hill of heaven the night clouds were gathering round its awful summit wheeling eddying and floating in whirlwinds from the dark chasms of rock that yawn in its sides the growling of the thunder among the riven peaks of granite overhead announced that a tempest was at hand but though farquhar shaw had come of a brave and adventurous race and feared nothing earthly he could not repress a shudder lest the mournful gusts of the rising wind might bear with them the cry of the tar uisc the terrible water bull or the shrieks of the spirit of the storm\n",
      "\n",
      "\n",
      "\n",
      "character count: 23198\n",
      "\n",
      "\n",
      "entrophy of block count: 4107904766201243\n",
      "\n",
      "\n",
      "character count: 23236\n",
      "\n",
      "\n",
      "entrophy of block count: 4109915064403359\n"
     ]
    }
   ],
   "source": [
    "f = open('cleanedtextProb1b.txt', 'w')\n",
    "for line in contents:\n",
    "    line = line.replace('\"', \"\").replace(';',\"\").replace('?', \"\").replace('.', \"\").replace('—', \"\") \\\n",
    "              .replace('!', \"\").replace(\"'\", \"\").replace(\",\", \"\").replace('(', \"\").replace(')', '') \\\n",
    "              .replace(\"-\", \"\").lower()\n",
    "    print(line)\n",
    "    f.write(line)\n",
    "f.close()"
   ]
  },
  {
   "cell_type": "code",
   "execution_count": 135,
   "metadata": {},
   "outputs": [],
   "source": [
    "char_count = 0\n",
    "with open('cleanedtextProb1b.txt', 'r') as f:\n",
    "    line = f.readline()\n",
    "    for ch in line:\n",
    "        if (ord(ch) >= 32) & (ord(ch) <= 127):\n",
    "            char_count += 1\n",
    "        else:\n",
    "            ch = ''"
   ]
  },
  {
   "cell_type": "code",
   "execution_count": 136,
   "metadata": {},
   "outputs": [
    {
     "data": {
      "text/plain": [
       "23299"
      ]
     },
     "execution_count": 136,
     "metadata": {},
     "output_type": "execute_result"
    }
   ],
   "source": [
    "char_count"
   ]
  },
  {
   "cell_type": "code",
   "execution_count": 137,
   "metadata": {},
   "outputs": [],
   "source": [
    "\n",
    "def calculate_entropy(in_str):\n",
    "    \"\"\"\n",
    "    Calculates the entropy for the given string.\n",
    "    \"\"\"\n",
    "    entrophy = 0.0\n",
    "    if len(in_str) < 2:\n",
    "        return entrophy\n",
    "    str_size = float(len(in_str))\n",
    "    for b in range(128):\n",
    "        freq = in_str.count(chr(b))\n",
    "        if freq > 0:\n",
    "            freq = float(freq) / str_size\n",
    "            entrophy = entrophy + freq * log(freq, 2)\n",
    "    return -entrophy"
   ]
  },
  {
   "cell_type": "code",
   "execution_count": 138,
   "metadata": {},
   "outputs": [],
   "source": [
    "contents = None\n",
    "with open('cleanedtextProb1b.txt') as f:\n",
    "    contents = f.readlines()"
   ]
  },
  {
   "cell_type": "code",
   "execution_count": 139,
   "metadata": {},
   "outputs": [
    {
     "data": {
      "text/plain": [
       "4.118599904035687"
      ]
     },
     "execution_count": 139,
     "metadata": {},
     "output_type": "execute_result"
    }
   ],
   "source": [
    "entrophy = calculate_entropy(contents[0])\n",
    "entrophy"
   ]
  },
  {
   "cell_type": "code",
   "execution_count": 27,
   "metadata": {},
   "outputs": [
    {
     "data": {
      "text/plain": [
       "45"
      ]
     },
     "execution_count": 27,
     "metadata": {},
     "output_type": "execute_result"
    }
   ],
   "source": [
    "f = open('Prob1b.txt', 'a')\n",
    "f.write(f'\\n\\n\\ncharacter count: {char_count}')\n",
    "f.write(f'\\n\\n\\nentrophy of block count: {entrophy}') "
   ]
  },
  {
   "cell_type": "code",
   "execution_count": 28,
   "metadata": {},
   "outputs": [],
   "source": [
    "f.close()"
   ]
  },
  {
   "cell_type": "markdown",
   "metadata": {},
   "source": [
    "# Prob1c.py"
   ]
  },
  {
   "cell_type": "code",
   "execution_count": 29,
   "metadata": {},
   "outputs": [],
   "source": [
    "def read_text():\n",
    "    contents = None\n",
    "    with open('cleanedtextProb1b.txt') as f:\n",
    "        contents = f.readlines()"
   ]
  },
  {
   "cell_type": "code",
   "execution_count": 30,
   "metadata": {},
   "outputs": [],
   "source": [
    "def get_char_count():\n",
    "    char_frequency = {}\n",
    "    for i in contents[0]:\n",
    "        if (i != '-') &  ( i != ' ') & (i != ':'):\n",
    "            if i in char_frequency:\n",
    "                char_frequency[i] += 1\n",
    "            else:\n",
    "                char_frequency[i] = 1\n",
    "    return char_frequency\n",
    "        \n",
    "            "
   ]
  },
  {
   "cell_type": "code",
   "execution_count": 31,
   "metadata": {},
   "outputs": [],
   "source": [
    "read_text()\n",
    "char_frequency = get_char_count()"
   ]
  },
  {
   "cell_type": "code",
   "execution_count": 57,
   "metadata": {},
   "outputs": [],
   "source": [
    "class node:\n",
    "    def __init__(self, freq, character, left=None, right=None):\n",
    "        # frequency of symbol\n",
    "        self.freq = freq\n",
    " \n",
    "        self.symbol = character\n",
    " \n",
    "        # node left of current node\n",
    "        self.left = left\n",
    " \n",
    "        # node right of current node\n",
    "        self.right = right\n",
    " \n",
    "        # tree direction (0/1)\n",
    "        self.huff = ''"
   ]
  },
  {
   "cell_type": "code",
   "execution_count": 64,
   "metadata": {},
   "outputs": [],
   "source": [
    "def printNodes(node, val=''):\n",
    "    # huffman code for current node\n",
    "    newVal = val + str(node.huff)\n",
    "    f = open('Prob1c.txt', 'a')\n",
    "    # if node is not an edge node\n",
    "    # then traverse inside it\n",
    "    if(node.left):\n",
    "        printNodes(node.left, newVal)\n",
    "    if(node.right):\n",
    "        printNodes(node.right, newVal)\n",
    " \n",
    "        # if node is edge node then display its huffman code\n",
    "    if(not node.left and not node.right):\n",
    "        print(f\"{node.symbol} -> {newVal}\")\n",
    "        f.write(f\"{node.symbol},{newVal}\\n\")\n",
    "    f.close()"
   ]
  },
  {
   "cell_type": "code",
   "execution_count": 65,
   "metadata": {},
   "outputs": [],
   "source": [
    "\n",
    "def generate_huffman_code(chars , freq ):\n",
    "    \"\"\" generates  huffman code for given characters and its frequency \"\"\"\n",
    "    # converting ccharecters and frequencies\n",
    "    # into huffman tree nodes\n",
    "    nodes = []\n",
    "    for x in range(len(chars)):\n",
    "        nodes.append(node(freq[x], chars[x]))\n",
    "\n",
    "    while len(nodes) > 1:\n",
    "        # sort all the nodes in ascending order\n",
    "        # based on theri frequency\n",
    "        nodes = sorted(nodes, key=lambda x: x.freq)\n",
    "        left = nodes[0]\n",
    "        right = nodes[1]\n",
    "\n",
    "        left.huff = 0\n",
    "        right.huff = 1\n",
    "\n",
    "        # combine the 2 smallest nodes to create new node as their parent\n",
    "        newNode = node(left.freq+right.freq, left.symbol+right.symbol, left, right)\n",
    "\n",
    "        nodes.remove(left)\n",
    "        nodes.remove(right)\n",
    "        nodes.append(newNode)\n",
    "    return nodes\n",
    "    \n"
   ]
  },
  {
   "cell_type": "code",
   "execution_count": 67,
   "metadata": {},
   "outputs": [
    {
     "name": "stdout",
     "output_type": "stream",
     "text": [
      "l -> 0000\n",
      "g -> 00010\n",
      "m -> 00011\n",
      "d -> 0010\n",
      "u -> 00110\n",
      "w -> 00111\n",
      "f -> 01000\n",
      "c -> 01001\n",
      "s -> 0101\n",
      "e -> 011\n",
      "i -> 1000\n",
      "r -> 1001\n",
      "y -> 101000\n",
      "p -> 101001\n",
      "b -> 101010\n",
      "v -> 1010110\n",
      "x -> 1010111000\n",
      "6 -> 1010111001000\n",
      "9 -> 1010111001001\n",
      "8 -> 1010111001010\n",
      "4 -> 1010111001011\n",
      "z -> 10101110011\n",
      "1 -> 101011101000\n",
      "j -> 101011101001\n",
      "0 -> 1010111010100\n",
      "7 -> 1010111010101\n",
      "2 -> 1010111010110\n",
      "3 -> 1010111010111\n",
      "q -> 1010111011\n",
      "k -> 10101111\n",
      "o -> 1011\n",
      "n -> 1100\n",
      "h -> 1101\n",
      "t -> 1110\n",
      "a -> 1111\n"
     ]
    }
   ],
   "source": [
    "chars = [key for key in char_frequency.keys() ]\n",
    "freq = [ key for key in char_frequency.values() ]\n",
    "nodes = generate_huffman_code(chars , freq )\n",
    "try:\n",
    "    printNodes(nodes[0])\n",
    "except :\n",
    "    pass"
   ]
  },
  {
   "cell_type": "markdown",
   "metadata": {},
   "source": [
    "# Prob1d.py"
   ]
  },
  {
   "cell_type": "code",
   "execution_count": 122,
   "metadata": {},
   "outputs": [],
   "source": [
    "def read_text():\n",
    "    contents = None\n",
    "    with open('cleanedtextProb1b.txt') as f:\n",
    "        contents = f.readlines()\n",
    "    return contents"
   ]
  },
  {
   "cell_type": "code",
   "execution_count": 123,
   "metadata": {},
   "outputs": [],
   "source": [
    "def get_char_count(contents):\n",
    "    char_frequency = {}\n",
    "    for i in contents[0]:\n",
    "        if (i != '-') &  ( i != ' ') & (i != ':'):\n",
    "            if i in char_frequency:\n",
    "                char_frequency[i] += 1\n",
    "            else:\n",
    "                char_frequency[i] = 1\n",
    "    return char_frequency\n",
    "        "
   ]
  },
  {
   "cell_type": "code",
   "execution_count": 124,
   "metadata": {},
   "outputs": [],
   "source": [
    "contents = read_text()\n",
    "char_frequency = get_char_count(contents)"
   ]
  },
  {
   "cell_type": "code",
   "execution_count": 125,
   "metadata": {},
   "outputs": [],
   "source": [
    "contents = None\n",
    "with open('Prob1c.txt', 'r') as f:\n",
    "    contents = f.readlines()"
   ]
  },
  {
   "cell_type": "code",
   "execution_count": 126,
   "metadata": {},
   "outputs": [],
   "source": [
    "contents = [x.strip() for x in contents]"
   ]
  },
  {
   "cell_type": "code",
   "execution_count": 129,
   "metadata": {},
   "outputs": [],
   "source": [
    "def calculate_avg_code_length():\n",
    "    \"\"\" Calculates avg code length \"\"\"\n",
    "    frequncies = []\n",
    "    freq_code_code_prod = 0 \n",
    "    for i in contents:\n",
    "        line = i.split(',')\n",
    "        frequncies.append(char_frequency[line[0]])\n",
    "        freq_code_code_prod += char_frequency[line[0]] * len( line[1] )\n",
    "    avg_code_length = freq_code_code_prod / sum(frequncies)\n",
    "    return avg_code_length"
   ]
  },
  {
   "cell_type": "code",
   "execution_count": 130,
   "metadata": {},
   "outputs": [
    {
     "data": {
      "text/plain": [
       "4.210305383565957"
      ]
     },
     "execution_count": 130,
     "metadata": {},
     "output_type": "execute_result"
    }
   ],
   "source": [
    "calculate_avg_code_length()"
   ]
  },
  {
   "cell_type": "code",
   "execution_count": null,
   "metadata": {},
   "outputs": [],
   "source": []
  },
  {
   "cell_type": "code",
   "execution_count": null,
   "metadata": {},
   "outputs": [],
   "source": []
  },
  {
   "cell_type": "code",
   "execution_count": null,
   "metadata": {},
   "outputs": [],
   "source": []
  }
 ],
 "metadata": {
  "kernelspec": {
   "display_name": "Python 3",
   "language": "python",
   "name": "python3"
  },
  "language_info": {
   "codemirror_mode": {
    "name": "ipython",
    "version": 3
   },
   "file_extension": ".py",
   "mimetype": "text/x-python",
   "name": "python",
   "nbconvert_exporter": "python",
   "pygments_lexer": "ipython3",
   "version": "3.8.3"
  }
 },
 "nbformat": 4,
 "nbformat_minor": 4
}
